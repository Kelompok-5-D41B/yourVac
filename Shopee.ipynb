{
 "cells": [
  {
   "cell_type": "code",
   "execution_count": 1,
   "metadata": {},
   "outputs": [],
   "source": [
    "from selenium import webdriver"
   ]
  },
  {
   "cell_type": "code",
   "execution_count": 2,
   "metadata": {},
   "outputs": [],
   "source": [
    "from selenium.common.exceptions import NoSuchElementException"
   ]
  },
  {
   "cell_type": "code",
   "execution_count": 3,
   "metadata": {},
   "outputs": [],
   "source": [
    "import json"
   ]
  },
  {
   "cell_type": "code",
   "execution_count": 4,
   "metadata": {},
   "outputs": [],
   "source": [
    "import re"
   ]
  },
  {
   "cell_type": "code",
   "execution_count": 5,
   "metadata": {},
   "outputs": [],
   "source": [
    "import urllib.request"
   ]
  },
  {
   "cell_type": "code",
   "execution_count": 6,
   "metadata": {},
   "outputs": [],
   "source": [
    "url = \"https://shopee.co.id/shop/19260065/search?shopCollection=11559445\""
   ]
  },
  {
   "cell_type": "code",
   "execution_count": 7,
   "metadata": {},
   "outputs": [
    {
     "name": "stderr",
     "output_type": "stream",
     "text": [
      "c:\\users\\user\\envs\\scraping\\lib\\site-packages\\selenium\\webdriver\\phantomjs\\webdriver.py:49: UserWarning: Selenium support for PhantomJS has been deprecated, please use headless versions of Chrome or Firefox instead\n",
      "  warnings.warn('Selenium support for PhantomJS has been deprecated, please use headless '\n"
     ]
    }
   ],
   "source": [
    "driver = webdriver.PhantomJS()"
   ]
  },
  {
   "cell_type": "code",
   "execution_count": 8,
   "metadata": {},
   "outputs": [],
   "source": [
    "driver.implicitly_wait(10)"
   ]
  },
  {
   "cell_type": "code",
   "execution_count": 22,
   "metadata": {},
   "outputs": [],
   "source": [
    "driver.get(url)"
   ]
  },
  {
   "cell_type": "code",
   "execution_count": 23,
   "metadata": {},
   "outputs": [
    {
     "name": "stdout",
     "output_type": "stream",
     "text": [
      "https://shopee.co.id/shop/19260065/search?shopCollection=11559445\n"
     ]
    }
   ],
   "source": [
    "print(driver.current_url)"
   ]
  },
  {
   "cell_type": "code",
   "execution_count": 24,
   "metadata": {},
   "outputs": [
    {
     "name": "stdout",
     "output_type": "stream",
     "text": [
      "30%\n",
      "OFF\n",
      "Eiger Ugimba Pinch Strap Sandal - Black\n",
      "Rp179.000\n",
      "Rp125.300\n",
      "1,5RB Terjual\n",
      "KAB. BANDUNG\n",
      "Eiger Kinkajou Palang Sandal - Black\n",
      "Rp229.000\n",
      "1,6RB Terjual\n",
      "KAB. BANDUNG\n",
      "Eiger Tas Selempang Pria Scoria - Hitam\n",
      "Rp249.000\n",
      "368 Terjual\n",
      "KAB. BANDUNG\n",
      "Bodypack Comrade - Blue\n",
      "Rp275.000\n",
      "410 Terjual\n",
      "KAB. BANDUNG\n",
      "Bodypack Prodigers New York - Grey\n",
      "Rp549.000\n",
      "341 Terjual\n",
      "KAB. BANDUNG\n",
      "Bodypack Prodigers Seattle - Coklat\n",
      "Rp499.000\n",
      "587 Terjual\n",
      "KAB. BANDUNG\n",
      "Bodypack Glasgow - Blue\n",
      "Rp625.000\n",
      "108 Terjual\n",
      "KAB. BANDUNG\n",
      "20%\n",
      "OFF\n",
      "Eiger Tas Paha Pria 7104 - Hitam\n",
      "Rp229.000\n",
      "Rp183.200\n",
      "307 Terjual\n",
      "KAB. BANDUNG\n",
      "Eiger Kinkajou Jepit Sandal - Orange\n",
      "Rp179.000\n",
      "1,5RB Terjual\n",
      "KAB. BANDUNG\n",
      "30%\n",
      "OFF\n",
      "Bodypack V. Synoptic 3.0 - Abu Abu\n",
      "Rp399.000\n",
      "Rp279.300\n",
      "276 Terjual\n",
      "KAB. BANDUNG\n",
      "Eiger Tas Laptop Navigator Mega - Hitam\n",
      "Rp349.000\n",
      "198 Terjual\n",
      "KAB. BANDUNG\n",
      "Eiger LS M. Walk Reversible - Navy\n",
      "Rp119.000\n",
      "374 Terjual\n",
      "KAB. BANDUNG\n",
      "Eiger Borneo S Duffle Backpack 20L - Black\n",
      "Rp345.000\n",
      "89 Terjual\n",
      "KAB. BANDUNG\n",
      "Eiger Tas Laptop Pria Andesite 01 - Hitam\n",
      "Rp749.000\n",
      "137 Terjual\n",
      "KAB. BANDUNG\n",
      "30%\n",
      "OFF\n",
      "Eiger Legpack JRP WP 1.5L - Hitam\n",
      "Rp235.000\n",
      "Rp164.500\n",
      "116 Terjual\n",
      "KAB. BANDUNG\n",
      "Exsport Coachella Shoulder Bag - Cream\n",
      "Rp297.000\n",
      "170 Terjual\n",
      "KAB. BANDUNG\n",
      "Eiger Kinkajou Palang Sandal - Green\n",
      "Rp229.000\n",
      "648 Terjual\n",
      "KAB. BANDUNG\n",
      "Eiger Riding Sling Bag Altima 1.1\n",
      "Rp350.000\n",
      "59 Terjual\n",
      "KAB. BANDUNG\n",
      "Eiger Tas Laptop Trilogic Pria Navigator - Hitam\n",
      "Rp495.000\n",
      "73 Terjual\n",
      "KAB. BANDUNG\n",
      "Eiger Riding Sling Bag Altima 1.1 8.5L - Brown\n",
      "Rp350.000\n",
      "45 Terjual\n",
      "KAB. BANDUNG\n"
     ]
    }
   ],
   "source": [
    "for product in driver.find_elements_by_class_name('_1gkBDw'):\n",
    "    print(product.text)"
   ]
  },
  {
   "cell_type": "code",
   "execution_count": 44,
   "metadata": {},
   "outputs": [],
   "source": [
    "products = []"
   ]
  },
  {
   "cell_type": "code",
   "execution_count": 45,
   "metadata": {},
   "outputs": [],
   "source": [
    "for product in driver.find_elements_by_xpath(\"//div[@class='_1gkBDw']\"):\n",
    "    if product.text != '':\n",
    "        details = re.split('\\n',product.text)\n",
    "        images = []\n",
    "        if (len(details) == 7):\n",
    "             products.append(\n",
    "             {\n",
    "                 'Diskon':details[0],\n",
    "                 'Sistem_Diskon':details[1],\n",
    "                 'Model': details[2],\n",
    "                 'Harga': details[3],\n",
    "                 'Harga_Diskon': details[4],\n",
    "                 'Terjual': details[5],\n",
    "                 'Kota': details[6],\n",
    "             })\n",
    "        else:\n",
    "            products.append(\n",
    "             {\n",
    "                 'Model': details[0],\n",
    "                 'Harga': details[1],\n",
    "                 'Terjual': details[2],\n",
    "                 'Kota': details[3],\n",
    "             })\n",
    "                "
   ]
  },
  {
   "cell_type": "code",
   "execution_count": 46,
   "metadata": {},
   "outputs": [
    {
     "data": {
      "text/plain": [
       "[{'Diskon': '30%',\n",
       "  'Sistem_Diskon': 'OFF',\n",
       "  'Model': 'Eiger Ugimba Pinch Strap Sandal - Black',\n",
       "  'Harga': 'Rp179.000',\n",
       "  'Harga_Diskon': 'Rp125.300',\n",
       "  'Terjual': '1,5RB Terjual',\n",
       "  'Kota': 'KAB. BANDUNG'},\n",
       " {'Model': 'Eiger Kinkajou Palang Sandal - Black',\n",
       "  'Harga': 'Rp229.000',\n",
       "  'Terjual': '1,6RB Terjual',\n",
       "  'Kota': 'KAB. BANDUNG'},\n",
       " {'Model': 'Eiger Tas Selempang Pria Scoria - Hitam',\n",
       "  'Harga': 'Rp249.000',\n",
       "  'Terjual': '368 Terjual',\n",
       "  'Kota': 'KAB. BANDUNG'},\n",
       " {'Model': 'Bodypack Comrade - Blue',\n",
       "  'Harga': 'Rp275.000',\n",
       "  'Terjual': '410 Terjual',\n",
       "  'Kota': 'KAB. BANDUNG'},\n",
       " {'Model': 'Bodypack Prodigers New York - Grey',\n",
       "  'Harga': 'Rp549.000',\n",
       "  'Terjual': '341 Terjual',\n",
       "  'Kota': 'KAB. BANDUNG'},\n",
       " {'Model': 'Bodypack Prodigers Seattle - Coklat',\n",
       "  'Harga': 'Rp499.000',\n",
       "  'Terjual': '587 Terjual',\n",
       "  'Kota': 'KAB. BANDUNG'},\n",
       " {'Model': 'Bodypack Glasgow - Blue',\n",
       "  'Harga': 'Rp625.000',\n",
       "  'Terjual': '108 Terjual',\n",
       "  'Kota': 'KAB. BANDUNG'},\n",
       " {'Diskon': '20%',\n",
       "  'Sistem_Diskon': 'OFF',\n",
       "  'Model': 'Eiger Tas Paha Pria 7104 - Hitam',\n",
       "  'Harga': 'Rp229.000',\n",
       "  'Harga_Diskon': 'Rp183.200',\n",
       "  'Terjual': '307 Terjual',\n",
       "  'Kota': 'KAB. BANDUNG'},\n",
       " {'Model': 'Eiger Kinkajou Jepit Sandal - Orange',\n",
       "  'Harga': 'Rp179.000',\n",
       "  'Terjual': '1,5RB Terjual',\n",
       "  'Kota': 'KAB. BANDUNG'},\n",
       " {'Diskon': '30%',\n",
       "  'Sistem_Diskon': 'OFF',\n",
       "  'Model': 'Bodypack V. Synoptic 3.0 - Abu Abu',\n",
       "  'Harga': 'Rp399.000',\n",
       "  'Harga_Diskon': 'Rp279.300',\n",
       "  'Terjual': '276 Terjual',\n",
       "  'Kota': 'KAB. BANDUNG'},\n",
       " {'Model': 'Eiger Tas Laptop Navigator Mega - Hitam',\n",
       "  'Harga': 'Rp349.000',\n",
       "  'Terjual': '198 Terjual',\n",
       "  'Kota': 'KAB. BANDUNG'},\n",
       " {'Model': 'Eiger LS M. Walk Reversible - Navy',\n",
       "  'Harga': 'Rp119.000',\n",
       "  'Terjual': '374 Terjual',\n",
       "  'Kota': 'KAB. BANDUNG'},\n",
       " {'Model': 'Eiger Borneo S Duffle Backpack 20L - Black',\n",
       "  'Harga': 'Rp345.000',\n",
       "  'Terjual': '89 Terjual',\n",
       "  'Kota': 'KAB. BANDUNG'},\n",
       " {'Model': 'Eiger Tas Laptop Pria Andesite 01 - Hitam',\n",
       "  'Harga': 'Rp749.000',\n",
       "  'Terjual': '137 Terjual',\n",
       "  'Kota': 'KAB. BANDUNG'},\n",
       " {'Diskon': '30%',\n",
       "  'Sistem_Diskon': 'OFF',\n",
       "  'Model': 'Eiger Legpack JRP WP 1.5L - Hitam',\n",
       "  'Harga': 'Rp235.000',\n",
       "  'Harga_Diskon': 'Rp164.500',\n",
       "  'Terjual': '116 Terjual',\n",
       "  'Kota': 'KAB. BANDUNG'},\n",
       " {'Model': 'Exsport Coachella Shoulder Bag - Cream',\n",
       "  'Harga': 'Rp297.000',\n",
       "  'Terjual': '170 Terjual',\n",
       "  'Kota': 'KAB. BANDUNG'},\n",
       " {'Model': 'Eiger Kinkajou Palang Sandal - Green',\n",
       "  'Harga': 'Rp229.000',\n",
       "  'Terjual': '648 Terjual',\n",
       "  'Kota': 'KAB. BANDUNG'},\n",
       " {'Model': 'Eiger Riding Sling Bag Altima 1.1',\n",
       "  'Harga': 'Rp350.000',\n",
       "  'Terjual': '59 Terjual',\n",
       "  'Kota': 'KAB. BANDUNG'},\n",
       " {'Model': 'Eiger Tas Laptop Trilogic Pria Navigator - Hitam',\n",
       "  'Harga': 'Rp495.000',\n",
       "  'Terjual': '73 Terjual',\n",
       "  'Kota': 'KAB. BANDUNG'},\n",
       " {'Model': 'Eiger Riding Sling Bag Altima 1.1 8.5L - Brown',\n",
       "  'Harga': 'Rp350.000',\n",
       "  'Terjual': '45 Terjual',\n",
       "  'Kota': 'KAB. BANDUNG'}]"
      ]
     },
     "execution_count": 46,
     "metadata": {},
     "output_type": "execute_result"
    }
   ],
   "source": [
    "products"
   ]
  },
  {
   "cell_type": "code",
   "execution_count": 47,
   "metadata": {},
   "outputs": [],
   "source": [
    "with open('shopee.json', 'w') as file:\n",
    "    json.dump(products, file, indent=4)"
   ]
  },
  {
   "cell_type": "code",
   "execution_count": null,
   "metadata": {},
   "outputs": [],
   "source": [
    "urllib.request.urlretrieve(images[1]['src'], \"wasd/tokped/\" + images[1]['src'].split('/')[-1])\n",
    "    try:\n",
    "        driver.find_element_by_class_name('toolbar-bottom').click()\n",
    "    except NoSuchElementException as e:\n",
    "        break;"
   ]
  }
 ],
 "metadata": {
  "kernelspec": {
   "display_name": "Python 3",
   "language": "python",
   "name": "python3"
  },
  "language_info": {
   "codemirror_mode": {
    "name": "ipython",
    "version": 3
   },
   "file_extension": ".py",
   "mimetype": "text/x-python",
   "name": "python",
   "nbconvert_exporter": "python",
   "pygments_lexer": "ipython3",
   "version": "3.8.2"
  }
 },
 "nbformat": 4,
 "nbformat_minor": 4
}
